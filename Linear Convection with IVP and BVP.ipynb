{
 "cells": [
  {
   "cell_type": "code",
   "execution_count": 70,
   "id": "2aa2734a",
   "metadata": {},
   "outputs": [],
   "source": [
    "import numpy\n",
    "from matplotlib import pyplot"
   ]
  },
  {
   "cell_type": "code",
   "execution_count": 71,
   "id": "6e984d42",
   "metadata": {},
   "outputs": [],
   "source": [
    "%matplotlib inline      "
   ]
  },
  {
   "cell_type": "code",
   "execution_count": 72,
   "id": "597aed84",
   "metadata": {},
   "outputs": [],
   "source": [
    "# Initial variables\n",
    "nx = 21  # how much elements in x\n",
    "dx = 2 / (nx-1)  #initial length divided by no. of steps (space increment)\n",
    "nt = 50   #number of timesteps we want to calculate\n",
    "dt = 0.01  #amount of time each timestep covers (delta t)\n",
    "c = 1      #wave propagation speed"
   ]
  },
  {
   "cell_type": "code",
   "execution_count": 73,
   "id": "0a67726f",
   "metadata": {},
   "outputs": [
    {
     "name": "stdout",
     "output_type": "stream",
     "text": [
      "[1. 1. 1. 1. 1. 2. 2. 2. 2. 2. 1. 1. 1. 1. 1. 1. 1. 1. 1. 1. 1.]\n"
     ]
    }
   ],
   "source": [
    "# Initial Conditions\n",
    "u = numpy.ones(nx)      #numpy function ones()\n",
    "u[int(0.5 / dx):int(1 / dx)] = 2  #setting u = 2 between 0.5 and 1 as per our initial conditions\n",
    "print(u)"
   ]
  },
  {
   "cell_type": "code",
   "execution_count": 74,
   "id": "a8e294ef",
   "metadata": {},
   "outputs": [
    {
     "data": {
      "image/png": "[encoded data removed]",
      "text/plain": [
       "<Figure size 432x288 with 1 Axes>"
      ]
     },
     "metadata": {
      "needs_background": "light"
     },
     "output_type": "display_data"
    }
   ],
   "source": [
    "# Boundary Conditions u=1 when x = (0,2) gives us a square wave\n",
    "pyplot.plot(numpy.linspace(0, 2, nx), u);"
   ]
  },
  {
   "cell_type": "code",
   "execution_count": 78,
   "id": "a0b40c80",
   "metadata": {},
   "outputs": [],
   "source": [
    "#loops\n",
    "un = numpy.ones(nx) #initialize a temporary array\n",
    "\n",
    "for n in range(nt):  #loop for values of n from 0 to nt, so it will run nt times\n",
    "    un = u.copy() ##copy the existing values of u into un\n",
    "    for i in range(1, nx): ## you can try commenting this line and...\n",
    "    #for i in range(nx): ## ... uncommenting this line and see what happens!\n",
    "        u[i] = un[i] - c * dt / dx * (un[i] - un[i-1])"
   ]
  },
  {
   "cell_type": "code",
   "execution_count": 79,
   "id": "c43d7e04",
   "metadata": {},
   "outputs": [
    {
     "data": {
      "image/png": "[encoded data removed]",
      "text/plain": [
       "<Figure size 432x288 with 1 Axes>"
      ]
     },
     "metadata": {
      "needs_background": "light"
     },
     "output_type": "display_data"
    }
   ],
   "source": [
    "pyplot.plot(numpy.linspace(0, 2, nx), u);"
   ]
  },
  {
   "cell_type": "code",
   "execution_count": 34,
   "id": "464a5b9e",
   "metadata": {},
   "outputs": [
    {
     "name": "stdout",
     "output_type": "stream",
     "text": [
      "[1.         1.         1.         1.         1.00679875 1.04248279\n",
      " 1.13425582 1.28839396 1.47851186 1.65531868 1.76418599 1.76779175\n",
      " 1.66746885 1.50371348 1.331454   1.19123365 1.09733242 1.04397056\n",
      " 1.01773381 1.        ]\n"
     ]
    }
   ],
   "source": [
    "print (u)\n",
    "pyplot.show()"
   ]
  },
  {
   "cell_type": "code",
   "execution_count": null,
   "id": "7e1513a0",
   "metadata": {},
   "outputs": [],
   "source": []
  },
  {
   "cell_type": "code",
   "execution_count": null,
   "id": "0ea2632e",
   "metadata": {},
   "outputs": [],
   "source": []
  }
 ],
 "metadata": {
  "kernelspec": {
   "display_name": "Python 3 (ipykernel)",
   "language": "python",
   "name": "python3"
  },
  "language_info": {
   "codemirror_mode": {
    "name": "ipython",
    "version": 3
   },
   "file_extension": ".py",
   "mimetype": "text/x-python",
   "name": "python",
   "nbconvert_exporter": "python",
   "pygments_lexer": "ipython3",
   "version": "3.9.7"
  }
 },
 "nbformat": 4,
 "nbformat_minor": 5
}
